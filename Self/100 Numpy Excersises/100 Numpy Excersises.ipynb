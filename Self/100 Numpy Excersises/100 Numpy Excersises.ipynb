{
 "cells": [
  {
   "cell_type": "markdown",
   "metadata": {},
   "source": [
    "# 100 numpy exercises\n",
    "\n",
    "This is a collection of exercises that have been collected in the numpy mailing list, on stack overflow\n",
    "and in the numpy documentation. The goal of this collection is to offer a quick reference for both old\n",
    "and new users but also to provide a set of exercises for those who teach.\n",
    "\n",
    "\n",
    "If you find an error or think you've a better way to solve some of them, feel\n",
    "free to open an issue at <https://github.com/rougier/numpy-100>."
   ]
  },
  {
   "cell_type": "markdown",
   "metadata": {},
   "source": [
    "File automatically generated. See the documentation to update questions/answers/hints programmatically."
   ]
  },
  {
   "cell_type": "markdown",
   "metadata": {},
   "source": [
    "Run the `initialize.py` module, then for each question you can query the\n",
    "answer or an hint with `hint(n)` or `answer(n)` for `n` question number."
   ]
  },
  {
   "cell_type": "code",
   "execution_count": 1,
   "metadata": {},
   "outputs": [],
   "source": [
    "from matplotlib import pyplot as plt"
   ]
  },
  {
   "cell_type": "code",
   "execution_count": 2,
   "metadata": {},
   "outputs": [],
   "source": [
    "%run initialise.py"
   ]
  },
  {
   "cell_type": "markdown",
   "metadata": {},
   "source": [
    "#### 1. Import the numpy package under the name `np` (★☆☆)"
   ]
  },
  {
   "cell_type": "code",
   "execution_count": 3,
   "metadata": {},
   "outputs": [],
   "source": [
    "import numpy as np"
   ]
  },
  {
   "cell_type": "markdown",
   "metadata": {},
   "source": [
    "#### 2. Print the numpy version and the configuration (★☆☆)"
   ]
  },
  {
   "cell_type": "code",
   "execution_count": 4,
   "metadata": {},
   "outputs": [
    {
     "data": {
      "text/plain": [
       "'1.20.3'"
      ]
     },
     "execution_count": 4,
     "metadata": {},
     "output_type": "execute_result"
    }
   ],
   "source": [
    "np.__version__"
   ]
  },
  {
   "cell_type": "markdown",
   "metadata": {},
   "source": [
    "#### 3. Create a null vector of size 10 (★☆☆)"
   ]
  },
  {
   "cell_type": "code",
   "execution_count": 5,
   "metadata": {},
   "outputs": [
    {
     "data": {
      "text/plain": [
       "array([0., 0., 0., 0., 0., 0., 0., 0., 0., 0.])"
      ]
     },
     "execution_count": 5,
     "metadata": {},
     "output_type": "execute_result"
    }
   ],
   "source": [
    "a = np.zeros(10)\n",
    "a"
   ]
  },
  {
   "cell_type": "markdown",
   "metadata": {},
   "source": [
    "#### 4. How to find the memory size of any array (★☆☆)"
   ]
  },
  {
   "cell_type": "code",
   "execution_count": 6,
   "metadata": {},
   "outputs": [
    {
     "name": "stdout",
     "output_type": "stream",
     "text": [
      "80 bytes\n"
     ]
    }
   ],
   "source": [
    "print('{} bytes'.format(a.size * a.itemsize))"
   ]
  },
  {
   "cell_type": "markdown",
   "metadata": {},
   "source": [
    "#### 5. How to get the documentation of the numpy add function from the command line? (★☆☆)"
   ]
  },
  {
   "cell_type": "code",
   "execution_count": 7,
   "metadata": {},
   "outputs": [
    {
     "name": "stdout",
     "output_type": "stream",
     "text": [
      "Help on ufunc:\n",
      "\n",
      "add = <ufunc 'add'>\n",
      "    add(x1, x2, /, out=None, *, where=True, casting='same_kind', order='K', dtype=None, subok=True[, signature, extobj])\n",
      "    \n",
      "    Add arguments element-wise.\n",
      "    \n",
      "    Parameters\n",
      "    ----------\n",
      "    x1, x2 : array_like\n",
      "        The arrays to be added.\n",
      "        If ``x1.shape != x2.shape``, they must be broadcastable to a common\n",
      "        shape (which becomes the shape of the output).\n",
      "    out : ndarray, None, or tuple of ndarray and None, optional\n",
      "        A location into which the result is stored. If provided, it must have\n",
      "        a shape that the inputs broadcast to. If not provided or None,\n",
      "        a freshly-allocated array is returned. A tuple (possible only as a\n",
      "        keyword argument) must have length equal to the number of outputs.\n",
      "    where : array_like, optional\n",
      "        This condition is broadcast over the input. At locations where the\n",
      "        condition is True, the `out` array will be set to the ufunc result.\n",
      "        Elsewhere, the `out` array will retain its original value.\n",
      "        Note that if an uninitialized `out` array is created via the default\n",
      "        ``out=None``, locations within it where the condition is False will\n",
      "        remain uninitialized.\n",
      "    **kwargs\n",
      "        For other keyword-only arguments, see the\n",
      "        :ref:`ufunc docs <ufuncs.kwargs>`.\n",
      "    \n",
      "    Returns\n",
      "    -------\n",
      "    add : ndarray or scalar\n",
      "        The sum of `x1` and `x2`, element-wise.\n",
      "        This is a scalar if both `x1` and `x2` are scalars.\n",
      "    \n",
      "    Notes\n",
      "    -----\n",
      "    Equivalent to `x1` + `x2` in terms of array broadcasting.\n",
      "    \n",
      "    Examples\n",
      "    --------\n",
      "    >>> np.add(1.0, 4.0)\n",
      "    5.0\n",
      "    >>> x1 = np.arange(9.0).reshape((3, 3))\n",
      "    >>> x2 = np.arange(3.0)\n",
      "    >>> np.add(x1, x2)\n",
      "    array([[  0.,   2.,   4.],\n",
      "           [  3.,   5.,   7.],\n",
      "           [  6.,   8.,  10.]])\n",
      "    \n",
      "    The ``+`` operator can be used as a shorthand for ``np.add`` on ndarrays.\n",
      "    \n",
      "    >>> x1 = np.arange(9.0).reshape((3, 3))\n",
      "    >>> x2 = np.arange(3.0)\n",
      "    >>> x1 + x2\n",
      "    array([[ 0.,  2.,  4.],\n",
      "           [ 3.,  5.,  7.],\n",
      "           [ 6.,  8., 10.]])\n",
      "\n"
     ]
    }
   ],
   "source": [
    "help(np.add)"
   ]
  },
  {
   "cell_type": "markdown",
   "metadata": {},
   "source": [
    "#### 6. Create a null vector of size 10 but the fifth value which is 1 (★☆☆)"
   ]
  },
  {
   "cell_type": "code",
   "execution_count": 8,
   "metadata": {},
   "outputs": [
    {
     "data": {
      "text/plain": [
       "array([0., 0., 0., 0., 1., 0., 0., 0., 0., 0.])"
      ]
     },
     "execution_count": 8,
     "metadata": {},
     "output_type": "execute_result"
    }
   ],
   "source": [
    "a = np.zeros(10)\n",
    "a[4] = 1\n",
    "a"
   ]
  },
  {
   "cell_type": "markdown",
   "metadata": {},
   "source": [
    "#### 7. Create a vector with values ranging from 10 to 49 (★☆☆)"
   ]
  },
  {
   "cell_type": "code",
   "execution_count": 9,
   "metadata": {},
   "outputs": [
    {
     "data": {
      "text/plain": [
       "array([10, 11, 12, 13, 14, 15, 16, 17, 18, 19, 20, 21, 22, 23, 24, 25, 26,\n",
       "       27, 28, 29, 30, 31, 32, 33, 34, 35, 36, 37, 38, 39, 40, 41, 42, 43,\n",
       "       44, 45, 46, 47, 48, 49])"
      ]
     },
     "execution_count": 9,
     "metadata": {},
     "output_type": "execute_result"
    }
   ],
   "source": [
    "a = np.arange(10, 50)\n",
    "a"
   ]
  },
  {
   "cell_type": "markdown",
   "metadata": {},
   "source": [
    "#### 8. Reverse a vector (first element becomes last) (★☆☆)"
   ]
  },
  {
   "cell_type": "code",
   "execution_count": 10,
   "metadata": {},
   "outputs": [
    {
     "data": {
      "text/plain": [
       "array([49, 48, 47, 46, 45, 44, 43, 42, 41, 40, 39, 38, 37, 36, 35, 34, 33,\n",
       "       32, 31, 30, 29, 28, 27, 26, 25, 24, 23, 22, 21, 20, 19, 18, 17, 16,\n",
       "       15, 14, 13, 12, 11, 10])"
      ]
     },
     "execution_count": 10,
     "metadata": {},
     "output_type": "execute_result"
    }
   ],
   "source": [
    "a = a[::-1]\n",
    "a"
   ]
  },
  {
   "cell_type": "markdown",
   "metadata": {},
   "source": [
    "#### 9. Create a 3x3 matrix with values ranging from 0 to 8 (★☆☆)"
   ]
  },
  {
   "cell_type": "code",
   "execution_count": 11,
   "metadata": {},
   "outputs": [
    {
     "data": {
      "text/plain": [
       "array([[0, 1, 2],\n",
       "       [3, 4, 5],\n",
       "       [6, 7, 8]])"
      ]
     },
     "execution_count": 11,
     "metadata": {},
     "output_type": "execute_result"
    }
   ],
   "source": [
    "a = np.arange(9).reshape((3, 3))\n",
    "a"
   ]
  },
  {
   "cell_type": "markdown",
   "metadata": {},
   "source": [
    "#### 10. Find indices of non-zero elements from [1,2,0,0,4,0] (★☆☆)"
   ]
  },
  {
   "cell_type": "code",
   "execution_count": 12,
   "metadata": {},
   "outputs": [
    {
     "data": {
      "text/plain": [
       "(array([0, 1, 4]),)"
      ]
     },
     "execution_count": 12,
     "metadata": {},
     "output_type": "execute_result"
    }
   ],
   "source": [
    "a = np.array([1, 2, 0, 0, 4, 0])\n",
    "a.nonzero()"
   ]
  },
  {
   "cell_type": "markdown",
   "metadata": {},
   "source": [
    "#### 11. Create a 3x3 identity matrix (★☆☆)"
   ]
  },
  {
   "cell_type": "code",
   "execution_count": 13,
   "metadata": {},
   "outputs": [
    {
     "data": {
      "text/plain": [
       "array([[1., 0., 0.],\n",
       "       [0., 1., 0.],\n",
       "       [0., 0., 1.]])"
      ]
     },
     "execution_count": 13,
     "metadata": {},
     "output_type": "execute_result"
    }
   ],
   "source": [
    "a = np.identity(3)\n",
    "a"
   ]
  },
  {
   "cell_type": "markdown",
   "metadata": {},
   "source": [
    "#### 12. Create a 3x3x3 array with random values (★☆☆)"
   ]
  },
  {
   "cell_type": "code",
   "execution_count": 14,
   "metadata": {},
   "outputs": [
    {
     "data": {
      "text/plain": [
       "array([[[0.98054302, 0.6973639 , 0.56486704],\n",
       "        [0.28182271, 0.83881459, 0.25876037],\n",
       "        [0.79829074, 0.03540617, 0.26303015]],\n",
       "\n",
       "       [[0.63740812, 0.98882165, 0.28110092],\n",
       "        [0.45957517, 0.6637305 , 0.02496394],\n",
       "        [0.37067264, 0.46321815, 0.22753034]],\n",
       "\n",
       "       [[0.97271138, 0.29561653, 0.04219385],\n",
       "        [0.82916411, 0.97203033, 0.58441267],\n",
       "        [0.26459976, 0.62252268, 0.65145225]]])"
      ]
     },
     "execution_count": 14,
     "metadata": {},
     "output_type": "execute_result"
    }
   ],
   "source": [
    "a = np.random.rand(3, 3, 3)\n",
    "a"
   ]
  },
  {
   "cell_type": "markdown",
   "metadata": {},
   "source": [
    "#### 13. Create a 10x10 array with random values and find the minimum and maximum values (★☆☆)"
   ]
  },
  {
   "cell_type": "code",
   "execution_count": 15,
   "metadata": {},
   "outputs": [
    {
     "data": {
      "text/plain": [
       "(0.9798545902912502, 0.0022403696247859095)"
      ]
     },
     "execution_count": 15,
     "metadata": {},
     "output_type": "execute_result"
    }
   ],
   "source": [
    "a = np.random.rand(10, 10)\n",
    "a.max(), a.min()"
   ]
  },
  {
   "cell_type": "markdown",
   "metadata": {},
   "source": [
    "#### 14. Create a random vector of size 30 and find the mean value (★☆☆)"
   ]
  },
  {
   "cell_type": "code",
   "execution_count": 16,
   "metadata": {},
   "outputs": [
    {
     "data": {
      "text/plain": [
       "(array([0.49928496, 0.29317727, 0.35596601, 0.04104803, 0.41138719,\n",
       "        0.90977868, 0.59663162, 0.18964946, 0.15352667, 0.89028666,\n",
       "        0.17237442, 0.98650055, 0.83476844, 0.82292856, 0.37009065,\n",
       "        0.96834701, 0.87200163, 0.16411654, 0.26691471, 0.67280667,\n",
       "        0.93561526, 0.30958287, 0.41643728, 0.6513377 , 0.51999768,\n",
       "        0.08827727, 0.80252906, 0.65951758, 0.60793454, 0.72574257]),\n",
       " 0.5396185849802421)"
      ]
     },
     "execution_count": 16,
     "metadata": {},
     "output_type": "execute_result"
    }
   ],
   "source": [
    "a = np.random.rand(30)\n",
    "a, a.mean()"
   ]
  },
  {
   "cell_type": "markdown",
   "metadata": {},
   "source": [
    "#### 15. Create a 2d array with 1 on the border and 0 inside (★☆☆)"
   ]
  },
  {
   "cell_type": "code",
   "execution_count": 17,
   "metadata": {},
   "outputs": [
    {
     "data": {
      "text/plain": [
       "array([[1., 1., 1., 1., 1.],\n",
       "       [1., 0., 0., 0., 1.],\n",
       "       [1., 0., 0., 0., 1.],\n",
       "       [1., 0., 0., 0., 1.],\n",
       "       [1., 1., 1., 1., 1.]])"
      ]
     },
     "execution_count": 17,
     "metadata": {},
     "output_type": "execute_result"
    }
   ],
   "source": [
    "a = np.ones((5, 5))\n",
    "a[1:-1, 1:-1] = 0\n",
    "a"
   ]
  },
  {
   "cell_type": "markdown",
   "metadata": {},
   "source": [
    "#### 16. How to add a border (filled with 0's) around an existing array? (★☆☆)"
   ]
  },
  {
   "cell_type": "code",
   "execution_count": 18,
   "metadata": {},
   "outputs": [
    {
     "data": {
      "text/plain": [
       "array([[0., 0., 0., 0., 0., 0., 0.],\n",
       "       [0., 1., 1., 1., 1., 1., 0.],\n",
       "       [0., 1., 0., 0., 0., 1., 0.],\n",
       "       [0., 1., 0., 0., 0., 1., 0.],\n",
       "       [0., 1., 0., 0., 0., 1., 0.],\n",
       "       [0., 1., 1., 1., 1., 1., 0.],\n",
       "       [0., 0., 0., 0., 0., 0., 0.]])"
      ]
     },
     "execution_count": 18,
     "metadata": {},
     "output_type": "execute_result"
    }
   ],
   "source": [
    "a = np.pad(a, 1)\n",
    "a"
   ]
  },
  {
   "cell_type": "markdown",
   "metadata": {},
   "source": [
    "#### 17. What is the result of the following expression? (★☆☆)\n",
    "```python\n",
    "0 * np.nan\n",
    "np.nan == np.nan\n",
    "np.inf > np.nan\n",
    "np.nan - np.nan\n",
    "np.nan in set([np.nan])\n",
    "0.3 == 3 * 0.1\n",
    "```"
   ]
  },
  {
   "cell_type": "markdown",
   "metadata": {},
   "source": [
    "```\n",
    "nan\n",
    "False\n",
    "False\n",
    "nan\n",
    "True\n",
    "False\n",
    "```"
   ]
  },
  {
   "cell_type": "markdown",
   "metadata": {},
   "source": [
    "#### 18. Create a 5x5 matrix with values 1,2,3,4 just below the diagonal (★☆☆)"
   ]
  },
  {
   "cell_type": "code",
   "execution_count": 19,
   "metadata": {},
   "outputs": [
    {
     "data": {
      "text/plain": [
       "array([[0, 0, 0, 0, 0],\n",
       "       [1, 0, 0, 0, 0],\n",
       "       [0, 2, 0, 0, 0],\n",
       "       [0, 0, 3, 0, 0],\n",
       "       [0, 0, 0, 4, 0]])"
      ]
     },
     "execution_count": 19,
     "metadata": {},
     "output_type": "execute_result"
    }
   ],
   "source": [
    "np.diag(np.arange(1, 5), k=-1)\n"
   ]
  },
  {
   "cell_type": "markdown",
   "metadata": {},
   "source": [
    "#### 19. Create a 8x8 matrix and fill it with a checkerboard pattern (★☆☆)"
   ]
  },
  {
   "cell_type": "code",
   "execution_count": 20,
   "metadata": {},
   "outputs": [
    {
     "data": {
      "text/plain": [
       "array([[1., 0., 1., 0., 1., 0., 1., 0.],\n",
       "       [0., 1., 0., 1., 0., 1., 0., 1.],\n",
       "       [1., 0., 1., 0., 1., 0., 1., 0.],\n",
       "       [0., 1., 0., 1., 0., 1., 0., 1.],\n",
       "       [1., 0., 1., 0., 1., 0., 1., 0.],\n",
       "       [0., 1., 0., 1., 0., 1., 0., 1.],\n",
       "       [1., 0., 1., 0., 1., 0., 1., 0.],\n",
       "       [0., 1., 0., 1., 0., 1., 0., 1.]])"
      ]
     },
     "execution_count": 20,
     "metadata": {},
     "output_type": "execute_result"
    }
   ],
   "source": [
    "a = np.zeros((8, 8))\n",
    "a[::2, ::2] = 1\n",
    "a[1::2, 1::2] = 1\n",
    "a"
   ]
  },
  {
   "cell_type": "markdown",
   "metadata": {},
   "source": [
    "#### 20. Consider a (6,7,8) shape array, what is the index (x,y,z) of the 100th element? (★☆☆)"
   ]
  },
  {
   "cell_type": "code",
   "execution_count": 21,
   "metadata": {},
   "outputs": [
    {
     "data": {
      "text/plain": [
       "(1, 5, 4)"
      ]
     },
     "execution_count": 21,
     "metadata": {},
     "output_type": "execute_result"
    }
   ],
   "source": [
    "a = np.empty((6, 7, 8))\n",
    "np.unravel_index(100, (6, 7, 8))"
   ]
  },
  {
   "cell_type": "markdown",
   "metadata": {},
   "source": [
    "#### 21. Create a checkerboard 8x8 matrix using the tile function (★☆☆)"
   ]
  },
  {
   "cell_type": "code",
   "execution_count": 22,
   "metadata": {},
   "outputs": [
    {
     "data": {
      "text/plain": [
       "array([[1, 0, 1, 0, 1, 0, 1, 0],\n",
       "       [0, 1, 0, 1, 0, 1, 0, 1],\n",
       "       [1, 0, 1, 0, 1, 0, 1, 0],\n",
       "       [0, 1, 0, 1, 0, 1, 0, 1],\n",
       "       [1, 0, 1, 0, 1, 0, 1, 0],\n",
       "       [0, 1, 0, 1, 0, 1, 0, 1],\n",
       "       [1, 0, 1, 0, 1, 0, 1, 0],\n",
       "       [0, 1, 0, 1, 0, 1, 0, 1]])"
      ]
     },
     "execution_count": 22,
     "metadata": {},
     "output_type": "execute_result"
    }
   ],
   "source": [
    "a = np.array([[1, 0], [0, 1]])\n",
    "np.tile(a, (4, 4))"
   ]
  },
  {
   "cell_type": "markdown",
   "metadata": {},
   "source": [
    "#### 22. Normalize a 5x5 random matrix (★☆☆)"
   ]
  },
  {
   "cell_type": "code",
   "execution_count": 23,
   "metadata": {},
   "outputs": [
    {
     "data": {
      "text/plain": [
       "array([[ 1.70491708, -0.54303235, -1.07620425,  0.67421634, -1.42203696],\n",
       "       [ 1.19833958, -1.41035487, -0.97943169,  1.52784729, -0.83404979],\n",
       "       [-0.24124942,  0.53053773, -0.28597401,  0.83836529, -0.96907378],\n",
       "       [-0.8210044 , -0.83460909,  0.85167685,  1.38495274,  0.58444307],\n",
       "       [ 1.54534873, -1.1328279 , -0.74318448,  0.27053619,  0.1818521 ]])"
      ]
     },
     "execution_count": 23,
     "metadata": {},
     "output_type": "execute_result"
    }
   ],
   "source": [
    "a = np.random.rand(5, 5)\n",
    "a = (a - np.mean(a)) / np.std(a)\n",
    "a"
   ]
  },
  {
   "cell_type": "markdown",
   "metadata": {},
   "source": [
    "#### 23. Create a custom dtype that describes a color as four unsigned bytes (RGBA) (★☆☆)"
   ]
  },
  {
   "cell_type": "code",
   "execution_count": 24,
   "metadata": {},
   "outputs": [
    {
     "data": {
      "text/plain": [
       "dtype([('r', 'u1'), ('g', 'u1'), ('b', 'u1'), ('a', 'u1')])"
      ]
     },
     "execution_count": 24,
     "metadata": {},
     "output_type": "execute_result"
    }
   ],
   "source": [
    "color = np.dtype([('r', np.ubyte),\n",
    "                  ('g', np.ubyte),\n",
    "                  ('b', np.ubyte),\n",
    "                  ('a', np.ubyte)])\n",
    "color"
   ]
  },
  {
   "cell_type": "markdown",
   "metadata": {},
   "source": [
    "#### 24. Multiply a 5x3 matrix by a 3x2 matrix (real matrix product) (★☆☆)"
   ]
  },
  {
   "cell_type": "code",
   "execution_count": 25,
   "metadata": {},
   "outputs": [
    {
     "data": {
      "text/plain": [
       "array([[1.04154353, 0.71904834],\n",
       "       [1.34465338, 0.63930531],\n",
       "       [0.68352882, 0.64209409],\n",
       "       [1.33807107, 0.78124751],\n",
       "       [0.28943872, 0.13025952]])"
      ]
     },
     "execution_count": 25,
     "metadata": {},
     "output_type": "execute_result"
    }
   ],
   "source": [
    "a = np.random.rand(5, 3)\n",
    "b = np.random.rand(3, 2)\n",
    "a @ b"
   ]
  },
  {
   "cell_type": "markdown",
   "metadata": {},
   "source": [
    "#### 25. Given a 1D array, negate all elements which are between 3 and 8, in place. (★☆☆)"
   ]
  },
  {
   "cell_type": "code",
   "execution_count": 26,
   "metadata": {},
   "outputs": [
    {
     "data": {
      "text/plain": [
       "array([-4,  3,  1,  2, -5,  0,  3,  9, -5,  9,  3, -4,  0,  2, -5, -7, -5,\n",
       "       -6,  3,  0])"
      ]
     },
     "execution_count": 26,
     "metadata": {},
     "output_type": "execute_result"
    }
   ],
   "source": [
    "a = np.random.randint(0, 10, size=20)\n",
    "a[(a > 3) & (a < 9)] *= -1\n",
    "a"
   ]
  },
  {
   "cell_type": "markdown",
   "metadata": {},
   "source": [
    "#### 26. What is the output of the following script? (★☆☆)\n",
    "```python\n",
    "# Author: Jake VanderPlas\n",
    "\n",
    "print(sum(range(5),-1))\n",
    "from numpy import *\n",
    "print(sum(range(5),-1))\n",
    "```"
   ]
  },
  {
   "cell_type": "code",
   "execution_count": 27,
   "metadata": {},
   "outputs": [
    {
     "name": "stdout",
     "output_type": "stream",
     "text": [
      "9\n",
      "10\n"
     ]
    }
   ],
   "source": [
    "print(sum(range(5),-1))\n",
    "from numpy import *\n",
    "print(sum(range(5),-1))"
   ]
  },
  {
   "cell_type": "markdown",
   "metadata": {},
   "source": [
    "#### 27. Consider an integer vector Z, which of these expressions are legal? (★☆☆)\n",
    "```python\n",
    "Z**Z\n",
    "2 << Z >> 2\n",
    "Z <- Z\n",
    "1j*Z\n",
    "Z/1/1\n",
    "Z<Z>Z\n",
    "```"
   ]
  },
  {
   "cell_type": "markdown",
   "metadata": {},
   "source": [
    "```\n",
    "Z**Z -- OK\n",
    "2 << Z >> 2 -- OK\n",
    "Z <- Z -- IDK what was expected really\n",
    "1j*Z -- haha nice __i__maginary xD\n",
    "Z/1/1 -- OK\n",
    "Z<Z>Z -- Dead as expected\n",
    "```"
   ]
  },
  {
   "cell_type": "code",
   "execution_count": 28,
   "metadata": {},
   "outputs": [],
   "source": [
    "a = np.random.randint(1, 8, 10)\n",
    "#a, a < a > a"
   ]
  },
  {
   "cell_type": "markdown",
   "metadata": {},
   "source": [
    "#### 28. What are the result of the following expressions? (★☆☆)\n",
    "```python\n",
    "np.array(0) / np.array(0)\n",
    "np.array(0) // np.array(0)\n",
    "np.array([np.nan]).astype(int).astype(float)\n",
    "```"
   ]
  },
  {
   "cell_type": "markdown",
   "metadata": {},
   "source": [
    "```\n",
    "np.array(0) / np.array(0) -- NaN\n",
    "np.array(0) // np.array(0) -- 0\n",
    "np.array([np.nan]).astype(int).astype(float) -- -2.14748365e+09 ???\n",
    "```"
   ]
  },
  {
   "cell_type": "markdown",
   "metadata": {},
   "source": [
    "#### 29. How to round away from zero a float array ? (★☆☆)"
   ]
  },
  {
   "cell_type": "code",
   "execution_count": 29,
   "metadata": {},
   "outputs": [
    {
     "data": {
      "text/plain": [
       "(array([ 1.82747963, -0.58337276,  1.51576657, -1.95765714, -1.70533134,\n",
       "        -1.88126342, -1.41041668,  1.2673704 ,  1.42159078, -0.90879374]),\n",
       " array([ 2., -1.,  2., -2., -2., -2., -2.,  2.,  2., -1.]))"
      ]
     },
     "execution_count": 29,
     "metadata": {},
     "output_type": "execute_result"
    }
   ],
   "source": [
    "a = np.random.uniform(-2, 2, 10)\n",
    "a, np.copysign(np.ceil(np.abs(a)), a)"
   ]
  },
  {
   "cell_type": "markdown",
   "metadata": {},
   "source": [
    "#### 30. How to find common values between two arrays? (★☆☆)"
   ]
  },
  {
   "cell_type": "code",
   "execution_count": null,
   "metadata": {},
   "outputs": [],
   "source": []
  },
  {
   "cell_type": "markdown",
   "metadata": {},
   "source": [
    "#### 31. How to ignore all numpy warnings (not recommended)? (★☆☆)"
   ]
  },
  {
   "cell_type": "code",
   "execution_count": 30,
   "metadata": {},
   "outputs": [],
   "source": [
    "defaults = np.seterr(all=\"ignore\")\n",
    "Z = np.ones(1) / 0"
   ]
  },
  {
   "cell_type": "code",
   "execution_count": 31,
   "metadata": {},
   "outputs": [],
   "source": [
    "_ = np.seterr(**defaults)"
   ]
  },
  {
   "cell_type": "markdown",
   "metadata": {},
   "source": [
    "#### 32. Is the following expressions true? (★☆☆)\n",
    "```python\n",
    "np.sqrt(-1) == np.emath.sqrt(-1)\n",
    "```"
   ]
  },
  {
   "cell_type": "code",
   "execution_count": 32,
   "metadata": {},
   "outputs": [
    {
     "name": "stderr",
     "output_type": "stream",
     "text": [
      "/var/folders/gz/9x93f64d11z1jqg8f1z2rgyc0000gn/T/ipykernel_31555/244602691.py:1: RuntimeWarning: invalid value encountered in sqrt\n",
      "  np.sqrt(-1) == np.emath.sqrt(-1)\n"
     ]
    },
    {
     "data": {
      "text/plain": [
       "False"
      ]
     },
     "execution_count": 32,
     "metadata": {},
     "output_type": "execute_result"
    }
   ],
   "source": [
    "np.sqrt(-1) == np.emath.sqrt(-1)"
   ]
  },
  {
   "cell_type": "markdown",
   "metadata": {},
   "source": [
    "#### 33. How to get the dates of yesterday, today and tomorrow? (★☆☆)"
   ]
  },
  {
   "cell_type": "code",
   "execution_count": 33,
   "metadata": {},
   "outputs": [
    {
     "data": {
      "text/plain": [
       "(numpy.datetime64('2021-10-12'),\n",
       " numpy.datetime64('2021-10-13'),\n",
       " numpy.datetime64('2021-10-14'))"
      ]
     },
     "execution_count": 33,
     "metadata": {},
     "output_type": "execute_result"
    }
   ],
   "source": [
    "np.datetime64('today') - 1, np.datetime64('today'), np.datetime64('today') + 1 "
   ]
  },
  {
   "cell_type": "markdown",
   "metadata": {},
   "source": [
    "#### 34. How to get all the dates corresponding to the month of July 2016? (★★☆)"
   ]
  },
  {
   "cell_type": "code",
   "execution_count": 34,
   "metadata": {},
   "outputs": [
    {
     "data": {
      "text/plain": [
       "array(['2016-07-01', '2016-07-02', '2016-07-03', '2016-07-04',\n",
       "       '2016-07-05', '2016-07-06', '2016-07-07', '2016-07-08',\n",
       "       '2016-07-09', '2016-07-10', '2016-07-11', '2016-07-12',\n",
       "       '2016-07-13', '2016-07-14', '2016-07-15', '2016-07-16',\n",
       "       '2016-07-17', '2016-07-18', '2016-07-19', '2016-07-20',\n",
       "       '2016-07-21', '2016-07-22', '2016-07-23', '2016-07-24',\n",
       "       '2016-07-25', '2016-07-26', '2016-07-27', '2016-07-28',\n",
       "       '2016-07-29', '2016-07-30', '2016-07-31'], dtype='datetime64[D]')"
      ]
     },
     "execution_count": 34,
     "metadata": {},
     "output_type": "execute_result"
    }
   ],
   "source": [
    "np.arange('2016-07', '2016-08', dtype='datetime64[D]')"
   ]
  },
  {
   "cell_type": "markdown",
   "metadata": {},
   "source": [
    "#### 35. How to compute ((A+B)*(-A/2)) in place (without copy)? (★★☆)"
   ]
  },
  {
   "cell_type": "code",
   "execution_count": 35,
   "metadata": {},
   "outputs": [
    {
     "data": {
      "text/plain": [
       "array([[-45.5, -20. , -58.5, -20. ,  -8. ],\n",
       "       [ -7.5, -35. , -27.5, -42. , -25. ],\n",
       "       [-31.5, -56. , -42. ,  -7. ,  -9. ],\n",
       "       [-30. ,  -4.5, -48. , -52.5, -12. ],\n",
       "       [-30. ,  -4. , -52. , -64. , -26. ]])"
      ]
     },
     "execution_count": 35,
     "metadata": {},
     "output_type": "execute_result"
    }
   ],
   "source": [
    "# ?\n",
    "\n",
    "a = np.random.randint(1, 10, (5, 5))\n",
    "b = np.random.randint(1, 10, (5, 5))\n",
    "(a + b) * (-a / 2)"
   ]
  },
  {
   "cell_type": "code",
   "execution_count": 36,
   "metadata": {},
   "outputs": [
    {
     "name": "stdout",
     "output_type": "stream",
     "text": [
      "Help on ufunc:\n",
      "\n",
      "floor = <ufunc 'floor'>\n",
      "    floor(x, /, out=None, *, where=True, casting='same_kind', order='K', dtype=None, subok=True[, signature, extobj])\n",
      "    \n",
      "    Return the floor of the input, element-wise.\n",
      "    \n",
      "    The floor of the scalar `x` is the largest integer `i`, such that\n",
      "    `i <= x`.  It is often denoted as :math:`\\lfloor x \\rfloor`.\n",
      "    \n",
      "    Parameters\n",
      "    ----------\n",
      "    x : array_like\n",
      "        Input data.\n",
      "    out : ndarray, None, or tuple of ndarray and None, optional\n",
      "        A location into which the result is stored. If provided, it must have\n",
      "        a shape that the inputs broadcast to. If not provided or None,\n",
      "        a freshly-allocated array is returned. A tuple (possible only as a\n",
      "        keyword argument) must have length equal to the number of outputs.\n",
      "    where : array_like, optional\n",
      "        This condition is broadcast over the input. At locations where the\n",
      "        condition is True, the `out` array will be set to the ufunc result.\n",
      "        Elsewhere, the `out` array will retain its original value.\n",
      "        Note that if an uninitialized `out` array is created via the default\n",
      "        ``out=None``, locations within it where the condition is False will\n",
      "        remain uninitialized.\n",
      "    **kwargs\n",
      "        For other keyword-only arguments, see the\n",
      "        :ref:`ufunc docs <ufuncs.kwargs>`.\n",
      "    \n",
      "    Returns\n",
      "    -------\n",
      "    y : ndarray or scalar\n",
      "        The floor of each element in `x`.\n",
      "        This is a scalar if `x` is a scalar.\n",
      "    \n",
      "    See Also\n",
      "    --------\n",
      "    ceil, trunc, rint\n",
      "    \n",
      "    Notes\n",
      "    -----\n",
      "    Some spreadsheet programs calculate the \"floor-towards-zero\", in other\n",
      "    words ``floor(-2.5) == -2``.  NumPy instead uses the definition of\n",
      "    `floor` where `floor(-2.5) == -3`.\n",
      "    \n",
      "    Examples\n",
      "    --------\n",
      "    >>> a = np.array([-1.7, -1.5, -0.2, 0.2, 1.5, 1.7, 2.0])\n",
      "    >>> np.floor(a)\n",
      "    array([-2., -2., -1.,  0.,  1.,  1.,  2.])\n",
      "\n"
     ]
    }
   ],
   "source": [
    "help(np.floor)"
   ]
  },
  {
   "cell_type": "markdown",
   "metadata": {},
   "source": [
    "#### 36. Extract the integer part of a random array of positive numbers using 4 different methods (★★☆)"
   ]
  },
  {
   "cell_type": "code",
   "execution_count": 37,
   "metadata": {},
   "outputs": [],
   "source": [
    "a = np.random.rand(2, 2) + np.random.randint(1, 10, (2, 2))\n",
    "#a = np.array(a, dtype=np.int64)\n",
    "#a = np.floor(a)\n",
    "#a = np.trunc(a)\n",
    "#a = a // 1\n",
    "#a = a - a % 1"
   ]
  },
  {
   "cell_type": "markdown",
   "metadata": {},
   "source": [
    "#### 37. Create a 5x5 matrix with row values ranging from 0 to 4 (★★☆)"
   ]
  },
  {
   "cell_type": "code",
   "execution_count": 38,
   "metadata": {},
   "outputs": [
    {
     "data": {
      "text/plain": [
       "array([[0, 1, 2, 3],\n",
       "       [0, 1, 2, 3],\n",
       "       [0, 1, 2, 3],\n",
       "       [0, 1, 2, 3]])"
      ]
     },
     "execution_count": 38,
     "metadata": {},
     "output_type": "execute_result"
    }
   ],
   "source": [
    "a = np.arange(4)\n",
    "a = np.tile(a, (4, 1))\n",
    "a"
   ]
  },
  {
   "cell_type": "markdown",
   "metadata": {},
   "source": [
    "#### 38. Consider a generator function that generates 10 integers and use it to build an array (★☆☆)"
   ]
  },
  {
   "cell_type": "code",
   "execution_count": 39,
   "metadata": {},
   "outputs": [
    {
     "data": {
      "text/plain": [
       "array([0, 1, 2, 3, 4, 5, 6, 7, 8, 9])"
      ]
     },
     "execution_count": 39,
     "metadata": {},
     "output_type": "execute_result"
    }
   ],
   "source": [
    "def generator():\n",
    "    for i in range(10):\n",
    "        yield i\n",
    "\n",
    "a = np.fromiter(generator(), dtype=np.int64)\n",
    "a"
   ]
  },
  {
   "cell_type": "markdown",
   "metadata": {},
   "source": [
    "#### 39. Create a vector of size 10 with values ranging from 0 to 1, both excluded (★★☆)"
   ]
  },
  {
   "cell_type": "code",
   "execution_count": 40,
   "metadata": {},
   "outputs": [],
   "source": [
    "a = np.linspace(0.1, 1, 11)[:-1]"
   ]
  },
  {
   "cell_type": "markdown",
   "metadata": {},
   "source": [
    "#### 40. Create a random vector of size 10 and sort it (★★☆)"
   ]
  },
  {
   "cell_type": "code",
   "execution_count": 41,
   "metadata": {},
   "outputs": [
    {
     "data": {
      "text/plain": [
       "array([0.11366142, 0.3353643 , 0.34746547, 0.50805534, 0.65802749,\n",
       "       0.66909672, 0.71544521, 0.8032524 , 0.85480444, 0.98767891])"
      ]
     },
     "execution_count": 41,
     "metadata": {},
     "output_type": "execute_result"
    }
   ],
   "source": [
    "a = np.random.rand(10)\n",
    "a.sort()\n",
    "a"
   ]
  },
  {
   "cell_type": "markdown",
   "metadata": {},
   "source": [
    "#### 41. How to sum a small array faster than np.sum? (★★☆)"
   ]
  },
  {
   "cell_type": "code",
   "execution_count": 42,
   "metadata": {},
   "outputs": [
    {
     "data": {
      "text/plain": [
       "6"
      ]
     },
     "execution_count": 42,
     "metadata": {},
     "output_type": "execute_result"
    }
   ],
   "source": [
    "a = np.arange(4)\n",
    "np.add.reduce(a)"
   ]
  },
  {
   "cell_type": "markdown",
   "metadata": {},
   "source": [
    "#### 42. Consider two random array A and B, check if they are equal (★★☆)"
   ]
  },
  {
   "cell_type": "code",
   "execution_count": 43,
   "metadata": {},
   "outputs": [
    {
     "data": {
      "text/plain": [
       "(False, False)"
      ]
     },
     "execution_count": 43,
     "metadata": {},
     "output_type": "execute_result"
    }
   ],
   "source": [
    "a = np.random.rand(10)\n",
    "b = np.random.rand(10)\n",
    "np.array_equal(a, b), (a == b).min()"
   ]
  },
  {
   "cell_type": "markdown",
   "metadata": {},
   "source": [
    "#### 43. Make an array immutable (read-only) (★★☆)"
   ]
  },
  {
   "cell_type": "code",
   "execution_count": 44,
   "metadata": {},
   "outputs": [],
   "source": [
    "a = np.random.rand(10)\n",
    "a.flags.writeable = False"
   ]
  },
  {
   "cell_type": "markdown",
   "metadata": {},
   "source": [
    "#### 44. Consider a random 10x2 matrix representing cartesian coordinates, convert them to polar coordinates (★★☆)"
   ]
  },
  {
   "cell_type": "code",
   "execution_count": 45,
   "metadata": {},
   "outputs": [],
   "source": [
    "a = np.random.rand(10, 2)\n",
    "b = np.zeros_like(a)\n",
    "b[:, 0] = np.sqrt(a[:, 0] ** 2 + a[:, 1] ** 2)\n",
    "b[:, 1] = np.arctan2(a[:, 0], a[:, 1])"
   ]
  },
  {
   "cell_type": "markdown",
   "metadata": {},
   "source": [
    "#### 45. Create random vector of size 10 and replace the maximum value by 0 (★★☆)"
   ]
  },
  {
   "cell_type": "code",
   "execution_count": 46,
   "metadata": {},
   "outputs": [],
   "source": [
    "a = np.random.randint(1, 10, 10)\n",
    "a[a.argmax()] = 0"
   ]
  },
  {
   "cell_type": "markdown",
   "metadata": {},
   "source": [
    "#### 46. Create a structured array with `x` and `y` coordinates covering the [0,1]x[0,1] area (★★☆)"
   ]
  },
  {
   "cell_type": "code",
   "execution_count": 47,
   "metadata": {},
   "outputs": [
    {
     "data": {
      "text/plain": [
       "array([[(0.        , 0.        ), (0.11111111, 0.        ),\n",
       "        (0.22222222, 0.        ), (0.33333333, 0.        ),\n",
       "        (0.44444444, 0.        ), (0.55555556, 0.        ),\n",
       "        (0.66666667, 0.        ), (0.77777778, 0.        ),\n",
       "        (0.88888889, 0.        ), (1.        , 0.        )],\n",
       "       [(0.        , 0.11111111), (0.11111111, 0.11111111),\n",
       "        (0.22222222, 0.11111111), (0.33333333, 0.11111111),\n",
       "        (0.44444444, 0.11111111), (0.55555556, 0.11111111),\n",
       "        (0.66666667, 0.11111111), (0.77777778, 0.11111111),\n",
       "        (0.88888889, 0.11111111), (1.        , 0.11111111)],\n",
       "       [(0.        , 0.22222222), (0.11111111, 0.22222222),\n",
       "        (0.22222222, 0.22222222), (0.33333333, 0.22222222),\n",
       "        (0.44444444, 0.22222222), (0.55555556, 0.22222222),\n",
       "        (0.66666667, 0.22222222), (0.77777778, 0.22222222),\n",
       "        (0.88888889, 0.22222222), (1.        , 0.22222222)],\n",
       "       [(0.        , 0.33333333), (0.11111111, 0.33333333),\n",
       "        (0.22222222, 0.33333333), (0.33333333, 0.33333333),\n",
       "        (0.44444444, 0.33333333), (0.55555556, 0.33333333),\n",
       "        (0.66666667, 0.33333333), (0.77777778, 0.33333333),\n",
       "        (0.88888889, 0.33333333), (1.        , 0.33333333)],\n",
       "       [(0.        , 0.44444444), (0.11111111, 0.44444444),\n",
       "        (0.22222222, 0.44444444), (0.33333333, 0.44444444),\n",
       "        (0.44444444, 0.44444444), (0.55555556, 0.44444444),\n",
       "        (0.66666667, 0.44444444), (0.77777778, 0.44444444),\n",
       "        (0.88888889, 0.44444444), (1.        , 0.44444444)],\n",
       "       [(0.        , 0.55555556), (0.11111111, 0.55555556),\n",
       "        (0.22222222, 0.55555556), (0.33333333, 0.55555556),\n",
       "        (0.44444444, 0.55555556), (0.55555556, 0.55555556),\n",
       "        (0.66666667, 0.55555556), (0.77777778, 0.55555556),\n",
       "        (0.88888889, 0.55555556), (1.        , 0.55555556)],\n",
       "       [(0.        , 0.66666667), (0.11111111, 0.66666667),\n",
       "        (0.22222222, 0.66666667), (0.33333333, 0.66666667),\n",
       "        (0.44444444, 0.66666667), (0.55555556, 0.66666667),\n",
       "        (0.66666667, 0.66666667), (0.77777778, 0.66666667),\n",
       "        (0.88888889, 0.66666667), (1.        , 0.66666667)],\n",
       "       [(0.        , 0.77777778), (0.11111111, 0.77777778),\n",
       "        (0.22222222, 0.77777778), (0.33333333, 0.77777778),\n",
       "        (0.44444444, 0.77777778), (0.55555556, 0.77777778),\n",
       "        (0.66666667, 0.77777778), (0.77777778, 0.77777778),\n",
       "        (0.88888889, 0.77777778), (1.        , 0.77777778)],\n",
       "       [(0.        , 0.88888889), (0.11111111, 0.88888889),\n",
       "        (0.22222222, 0.88888889), (0.33333333, 0.88888889),\n",
       "        (0.44444444, 0.88888889), (0.55555556, 0.88888889),\n",
       "        (0.66666667, 0.88888889), (0.77777778, 0.88888889),\n",
       "        (0.88888889, 0.88888889), (1.        , 0.88888889)],\n",
       "       [(0.        , 1.        ), (0.11111111, 1.        ),\n",
       "        (0.22222222, 1.        ), (0.33333333, 1.        ),\n",
       "        (0.44444444, 1.        ), (0.55555556, 1.        ),\n",
       "        (0.66666667, 1.        ), (0.77777778, 1.        ),\n",
       "        (0.88888889, 1.        ), (1.        , 1.        )]],\n",
       "      dtype=[('x', '<f8'), ('y', '<f8')])"
      ]
     },
     "execution_count": 47,
     "metadata": {},
     "output_type": "execute_result"
    }
   ],
   "source": [
    "a = np.zeros((10, 10), dtype=[('x', float), ('y', float)])\n",
    "a['x'], a['y'] = np.meshgrid(np.linspace(0, 1, 10), np.linspace(0, 1, 10))\n",
    "a"
   ]
  },
  {
   "cell_type": "markdown",
   "metadata": {},
   "source": [
    "#### 47. Given two arrays, X and Y, construct the Cauchy matrix C (Cij =1/(xi - yj)) (★★☆)"
   ]
  },
  {
   "cell_type": "code",
   "execution_count": 48,
   "metadata": {},
   "outputs": [
    {
     "name": "stdout",
     "output_type": "stream",
     "text": [
      "[[-2.         -0.66666667 -0.4        -0.28571429 -0.22222222 -0.18181818\n",
      "  -0.15384615 -0.13333333]\n",
      " [ 2.         -2.         -0.66666667 -0.4        -0.28571429 -0.22222222\n",
      "  -0.18181818 -0.15384615]\n",
      " [ 0.66666667  2.         -2.         -0.66666667 -0.4        -0.28571429\n",
      "  -0.22222222 -0.18181818]\n",
      " [ 0.4         0.66666667  2.         -2.         -0.66666667 -0.4\n",
      "  -0.28571429 -0.22222222]\n",
      " [ 0.28571429  0.4         0.66666667  2.         -2.         -0.66666667\n",
      "  -0.4        -0.28571429]\n",
      " [ 0.22222222  0.28571429  0.4         0.66666667  2.         -2.\n",
      "  -0.66666667 -0.4       ]\n",
      " [ 0.18181818  0.22222222  0.28571429  0.4         0.66666667  2.\n",
      "  -2.         -0.66666667]\n",
      " [ 0.15384615  0.18181818  0.22222222  0.28571429  0.4         0.66666667\n",
      "   2.         -2.        ]]\n"
     ]
    }
   ],
   "source": [
    "# Thx Evgeni Burovski for an awesome task!\n",
    "\n",
    "X = np.arange(8)\n",
    "Y = X + 0.5\n",
    "C = 1.0 / np.subtract.outer(X, Y)\n",
    "print(C)"
   ]
  },
  {
   "cell_type": "markdown",
   "metadata": {},
   "source": [
    "#### 48. Print the minimum and maximum representable value for each numpy scalar type (★★☆)"
   ]
  },
  {
   "cell_type": "code",
   "execution_count": 49,
   "metadata": {},
   "outputs": [
    {
     "name": "stdout",
     "output_type": "stream",
     "text": [
      "Machine parameters for int64\n",
      "---------------------------------------------------------------\n",
      "min = -9223372036854775808\n",
      "max = 9223372036854775807\n",
      "---------------------------------------------------------------\n",
      "\n",
      "Machine parameters for int32\n",
      "---------------------------------------------------------------\n",
      "min = -2147483648\n",
      "max = 2147483647\n",
      "---------------------------------------------------------------\n",
      "\n",
      "Machine parameters for int16\n",
      "---------------------------------------------------------------\n",
      "min = -32768\n",
      "max = 32767\n",
      "---------------------------------------------------------------\n",
      "\n",
      "Machine parameters for int8\n",
      "---------------------------------------------------------------\n",
      "min = -128\n",
      "max = 127\n",
      "---------------------------------------------------------------\n",
      "\n",
      "Machine parameters for int64\n",
      "---------------------------------------------------------------\n",
      "min = -9223372036854775808\n",
      "max = 9223372036854775807\n",
      "---------------------------------------------------------------\n",
      "\n",
      "1.189731495357231765e+4932\n",
      "-1.189731495357231765e+4932\n",
      "1.7976931348623157e+308\n",
      "-1.7976931348623157e+308\n",
      "3.4028235e+38\n",
      "-3.4028235e+38\n",
      "65500.0\n",
      "-65500.0\n"
     ]
    }
   ],
   "source": [
    "for dtype in (np.int64, np.int32, np.int16, np.int8, np.int0):\n",
    "    print(np.iinfo(dtype))\n",
    "for dtype in (np.float128, np.float64, np.float32, np.float16):\n",
    "    print(np.finfo(dtype).max)\n",
    "    print(np.finfo(dtype).min)"
   ]
  },
  {
   "cell_type": "markdown",
   "metadata": {},
   "source": [
    "#### 49. How to print all the values of an array? (★★☆)"
   ]
  },
  {
   "cell_type": "code",
   "execution_count": 56,
   "metadata": {},
   "outputs": [
    {
     "name": "stdout",
     "output_type": "stream",
     "text": [
      "[  0.           0.1001001    0.2002002    0.3003003    0.4004004\n",
      "   0.5005005    0.6006006    0.7007007    0.8008008    0.9009009\n",
      "   1.001001     1.1011011    1.2012012    1.3013013    1.4014014\n",
      "   1.5015015    1.6016016    1.7017017    1.8018018    1.9019019\n",
      "   2.002002     2.1021021    2.2022022    2.3023023    2.4024024\n",
      "   2.5025025    2.6026026    2.7027027    2.8028028    2.9029029\n",
      "   3.003003     3.1031031    3.2032032    3.3033033    3.4034034\n",
      "   3.5035035    3.6036036    3.7037037    3.8038038    3.9039039\n",
      "   4.004004     4.1041041    4.2042042    4.3043043    4.4044044\n",
      "   4.5045045    4.6046046    4.7047047    4.8048048    4.9049049\n",
      "   5.00500501   5.10510511   5.20520521   5.30530531   5.40540541\n",
      "   5.50550551   5.60560561   5.70570571   5.80580581   5.90590591\n",
      "   6.00600601   6.10610611   6.20620621   6.30630631   6.40640641\n",
      "   6.50650651   6.60660661   6.70670671   6.80680681   6.90690691\n",
      "   7.00700701   7.10710711   7.20720721   7.30730731   7.40740741\n",
      "   7.50750751   7.60760761   7.70770771   7.80780781   7.90790791\n",
      "   8.00800801   8.10810811   8.20820821   8.30830831   8.40840841\n",
      "   8.50850851   8.60860861   8.70870871   8.80880881   8.90890891\n",
      "   9.00900901   9.10910911   9.20920921   9.30930931   9.40940941\n",
      "   9.50950951   9.60960961   9.70970971   9.80980981   9.90990991\n",
      "  10.01001001  10.11011011  10.21021021  10.31031031  10.41041041\n",
      "  10.51051051  10.61061061  10.71071071  10.81081081  10.91091091\n",
      "  11.01101101  11.11111111  11.21121121  11.31131131  11.41141141\n",
      "  11.51151151  11.61161161  11.71171171  11.81181181  11.91191191\n",
      "  12.01201201  12.11211211  12.21221221  12.31231231  12.41241241\n",
      "  12.51251251  12.61261261  12.71271271  12.81281281  12.91291291\n",
      "  13.01301301  13.11311311  13.21321321  13.31331331  13.41341341\n",
      "  13.51351351  13.61361361  13.71371371  13.81381381  13.91391391\n",
      "  14.01401401  14.11411411  14.21421421  14.31431431  14.41441441\n",
      "  14.51451451  14.61461461  14.71471471  14.81481481  14.91491491\n",
      "  15.01501502  15.11511512  15.21521522  15.31531532  15.41541542\n",
      "  15.51551552  15.61561562  15.71571572  15.81581582  15.91591592\n",
      "  16.01601602  16.11611612  16.21621622  16.31631632  16.41641642\n",
      "  16.51651652  16.61661662  16.71671672  16.81681682  16.91691692\n",
      "  17.01701702  17.11711712  17.21721722  17.31731732  17.41741742\n",
      "  17.51751752  17.61761762  17.71771772  17.81781782  17.91791792\n",
      "  18.01801802  18.11811812  18.21821822  18.31831832  18.41841842\n",
      "  18.51851852  18.61861862  18.71871872  18.81881882  18.91891892\n",
      "  19.01901902  19.11911912  19.21921922  19.31931932  19.41941942\n",
      "  19.51951952  19.61961962  19.71971972  19.81981982  19.91991992\n",
      "  20.02002002  20.12012012  20.22022022  20.32032032  20.42042042\n",
      "  20.52052052  20.62062062  20.72072072  20.82082082  20.92092092\n",
      "  21.02102102  21.12112112  21.22122122  21.32132132  21.42142142\n",
      "  21.52152152  21.62162162  21.72172172  21.82182182  21.92192192\n",
      "  22.02202202  22.12212212  22.22222222  22.32232232  22.42242242\n",
      "  22.52252252  22.62262262  22.72272272  22.82282282  22.92292292\n",
      "  23.02302302  23.12312312  23.22322322  23.32332332  23.42342342\n",
      "  23.52352352  23.62362362  23.72372372  23.82382382  23.92392392\n",
      "  24.02402402  24.12412412  24.22422422  24.32432432  24.42442442\n",
      "  24.52452452  24.62462462  24.72472472  24.82482482  24.92492492\n",
      "  25.02502503  25.12512513  25.22522523  25.32532533  25.42542543\n",
      "  25.52552553  25.62562563  25.72572573  25.82582583  25.92592593\n",
      "  26.02602603  26.12612613  26.22622623  26.32632633  26.42642643\n",
      "  26.52652653  26.62662663  26.72672673  26.82682683  26.92692693\n",
      "  27.02702703  27.12712713  27.22722723  27.32732733  27.42742743\n",
      "  27.52752753  27.62762763  27.72772773  27.82782783  27.92792793\n",
      "  28.02802803  28.12812813  28.22822823  28.32832833  28.42842843\n",
      "  28.52852853  28.62862863  28.72872873  28.82882883  28.92892893\n",
      "  29.02902903  29.12912913  29.22922923  29.32932933  29.42942943\n",
      "  29.52952953  29.62962963  29.72972973  29.82982983  29.92992993\n",
      "  30.03003003  30.13013013  30.23023023  30.33033033  30.43043043\n",
      "  30.53053053  30.63063063  30.73073073  30.83083083  30.93093093\n",
      "  31.03103103  31.13113113  31.23123123  31.33133133  31.43143143\n",
      "  31.53153153  31.63163163  31.73173173  31.83183183  31.93193193\n",
      "  32.03203203  32.13213213  32.23223223  32.33233233  32.43243243\n",
      "  32.53253253  32.63263263  32.73273273  32.83283283  32.93293293\n",
      "  33.03303303  33.13313313  33.23323323  33.33333333  33.43343343\n",
      "  33.53353353  33.63363363  33.73373373  33.83383383  33.93393393\n",
      "  34.03403403  34.13413413  34.23423423  34.33433433  34.43443443\n",
      "  34.53453453  34.63463463  34.73473473  34.83483483  34.93493493\n",
      "  35.03503504  35.13513514  35.23523524  35.33533534  35.43543544\n",
      "  35.53553554  35.63563564  35.73573574  35.83583584  35.93593594\n",
      "  36.03603604  36.13613614  36.23623624  36.33633634  36.43643644\n",
      "  36.53653654  36.63663664  36.73673674  36.83683684  36.93693694\n",
      "  37.03703704  37.13713714  37.23723724  37.33733734  37.43743744\n",
      "  37.53753754  37.63763764  37.73773774  37.83783784  37.93793794\n",
      "  38.03803804  38.13813814  38.23823824  38.33833834  38.43843844\n",
      "  38.53853854  38.63863864  38.73873874  38.83883884  38.93893894\n",
      "  39.03903904  39.13913914  39.23923924  39.33933934  39.43943944\n",
      "  39.53953954  39.63963964  39.73973974  39.83983984  39.93993994\n",
      "  40.04004004  40.14014014  40.24024024  40.34034034  40.44044044\n",
      "  40.54054054  40.64064064  40.74074074  40.84084084  40.94094094\n",
      "  41.04104104  41.14114114  41.24124124  41.34134134  41.44144144\n",
      "  41.54154154  41.64164164  41.74174174  41.84184184  41.94194194\n",
      "  42.04204204  42.14214214  42.24224224  42.34234234  42.44244244\n",
      "  42.54254254  42.64264264  42.74274274  42.84284284  42.94294294\n",
      "  43.04304304  43.14314314  43.24324324  43.34334334  43.44344344\n",
      "  43.54354354  43.64364364  43.74374374  43.84384384  43.94394394\n",
      "  44.04404404  44.14414414  44.24424424  44.34434434  44.44444444\n",
      "  44.54454454  44.64464464  44.74474474  44.84484484  44.94494494\n",
      "  45.04504505  45.14514515  45.24524525  45.34534535  45.44544545\n",
      "  45.54554555  45.64564565  45.74574575  45.84584585  45.94594595\n",
      "  46.04604605  46.14614615  46.24624625  46.34634635  46.44644645\n",
      "  46.54654655  46.64664665  46.74674675  46.84684685  46.94694695\n",
      "  47.04704705  47.14714715  47.24724725  47.34734735  47.44744745\n",
      "  47.54754755  47.64764765  47.74774775  47.84784785  47.94794795\n",
      "  48.04804805  48.14814815  48.24824825  48.34834835  48.44844845\n",
      "  48.54854855  48.64864865  48.74874875  48.84884885  48.94894895\n",
      "  49.04904905  49.14914915  49.24924925  49.34934935  49.44944945\n",
      "  49.54954955  49.64964965  49.74974975  49.84984985  49.94994995\n",
      "  50.05005005  50.15015015  50.25025025  50.35035035  50.45045045\n",
      "  50.55055055  50.65065065  50.75075075  50.85085085  50.95095095\n",
      "  51.05105105  51.15115115  51.25125125  51.35135135  51.45145145\n",
      "  51.55155155  51.65165165  51.75175175  51.85185185  51.95195195\n",
      "  52.05205205  52.15215215  52.25225225  52.35235235  52.45245245\n",
      "  52.55255255  52.65265265  52.75275275  52.85285285  52.95295295\n",
      "  53.05305305  53.15315315  53.25325325  53.35335335  53.45345345\n",
      "  53.55355355  53.65365365  53.75375375  53.85385385  53.95395395\n",
      "  54.05405405  54.15415415  54.25425425  54.35435435  54.45445445\n",
      "  54.55455455  54.65465465  54.75475475  54.85485485  54.95495495\n",
      "  55.05505506  55.15515516  55.25525526  55.35535536  55.45545546\n",
      "  55.55555556  55.65565566  55.75575576  55.85585586  55.95595596\n",
      "  56.05605606  56.15615616  56.25625626  56.35635636  56.45645646\n",
      "  56.55655656  56.65665666  56.75675676  56.85685686  56.95695696\n",
      "  57.05705706  57.15715716  57.25725726  57.35735736  57.45745746\n",
      "  57.55755756  57.65765766  57.75775776  57.85785786  57.95795796\n",
      "  58.05805806  58.15815816  58.25825826  58.35835836  58.45845846\n",
      "  58.55855856  58.65865866  58.75875876  58.85885886  58.95895896\n",
      "  59.05905906  59.15915916  59.25925926  59.35935936  59.45945946\n",
      "  59.55955956  59.65965966  59.75975976  59.85985986  59.95995996\n",
      "  60.06006006  60.16016016  60.26026026  60.36036036  60.46046046\n",
      "  60.56056056  60.66066066  60.76076076  60.86086086  60.96096096\n",
      "  61.06106106  61.16116116  61.26126126  61.36136136  61.46146146\n",
      "  61.56156156  61.66166166  61.76176176  61.86186186  61.96196196\n",
      "  62.06206206  62.16216216  62.26226226  62.36236236  62.46246246\n",
      "  62.56256256  62.66266266  62.76276276  62.86286286  62.96296296\n",
      "  63.06306306  63.16316316  63.26326326  63.36336336  63.46346346\n",
      "  63.56356356  63.66366366  63.76376376  63.86386386  63.96396396\n",
      "  64.06406406  64.16416416  64.26426426  64.36436436  64.46446446\n",
      "  64.56456456  64.66466466  64.76476476  64.86486486  64.96496496\n",
      "  65.06506507  65.16516517  65.26526527  65.36536537  65.46546547\n",
      "  65.56556557  65.66566567  65.76576577  65.86586587  65.96596597\n",
      "  66.06606607  66.16616617  66.26626627  66.36636637  66.46646647\n",
      "  66.56656657  66.66666667  66.76676677  66.86686687  66.96696697\n",
      "  67.06706707  67.16716717  67.26726727  67.36736737  67.46746747\n",
      "  67.56756757  67.66766767  67.76776777  67.86786787  67.96796797\n",
      "  68.06806807  68.16816817  68.26826827  68.36836837  68.46846847\n",
      "  68.56856857  68.66866867  68.76876877  68.86886887  68.96896897\n",
      "  69.06906907  69.16916917  69.26926927  69.36936937  69.46946947\n",
      "  69.56956957  69.66966967  69.76976977  69.86986987  69.96996997\n",
      "  70.07007007  70.17017017  70.27027027  70.37037037  70.47047047\n",
      "  70.57057057  70.67067067  70.77077077  70.87087087  70.97097097\n",
      "  71.07107107  71.17117117  71.27127127  71.37137137  71.47147147\n",
      "  71.57157157  71.67167167  71.77177177  71.87187187  71.97197197\n",
      "  72.07207207  72.17217217  72.27227227  72.37237237  72.47247247\n",
      "  72.57257257  72.67267267  72.77277277  72.87287287  72.97297297\n",
      "  73.07307307  73.17317317  73.27327327  73.37337337  73.47347347\n",
      "  73.57357357  73.67367367  73.77377377  73.87387387  73.97397397\n",
      "  74.07407407  74.17417417  74.27427427  74.37437437  74.47447447\n",
      "  74.57457457  74.67467467  74.77477477  74.87487487  74.97497497\n",
      "  75.07507508  75.17517518  75.27527528  75.37537538  75.47547548\n",
      "  75.57557558  75.67567568  75.77577578  75.87587588  75.97597598\n",
      "  76.07607608  76.17617618  76.27627628  76.37637638  76.47647648\n",
      "  76.57657658  76.67667668  76.77677678  76.87687688  76.97697698\n",
      "  77.07707708  77.17717718  77.27727728  77.37737738  77.47747748\n",
      "  77.57757758  77.67767768  77.77777778  77.87787788  77.97797798\n",
      "  78.07807808  78.17817818  78.27827828  78.37837838  78.47847848\n",
      "  78.57857858  78.67867868  78.77877878  78.87887888  78.97897898\n",
      "  79.07907908  79.17917918  79.27927928  79.37937938  79.47947948\n",
      "  79.57957958  79.67967968  79.77977978  79.87987988  79.97997998\n",
      "  80.08008008  80.18018018  80.28028028  80.38038038  80.48048048\n",
      "  80.58058058  80.68068068  80.78078078  80.88088088  80.98098098\n",
      "  81.08108108  81.18118118  81.28128128  81.38138138  81.48148148\n",
      "  81.58158158  81.68168168  81.78178178  81.88188188  81.98198198\n",
      "  82.08208208  82.18218218  82.28228228  82.38238238  82.48248248\n",
      "  82.58258258  82.68268268  82.78278278  82.88288288  82.98298298\n",
      "  83.08308308  83.18318318  83.28328328  83.38338338  83.48348348\n",
      "  83.58358358  83.68368368  83.78378378  83.88388388  83.98398398\n",
      "  84.08408408  84.18418418  84.28428428  84.38438438  84.48448448\n",
      "  84.58458458  84.68468468  84.78478478  84.88488488  84.98498498\n",
      "  85.08508509  85.18518519  85.28528529  85.38538539  85.48548549\n",
      "  85.58558559  85.68568569  85.78578579  85.88588589  85.98598599\n",
      "  86.08608609  86.18618619  86.28628629  86.38638639  86.48648649\n",
      "  86.58658659  86.68668669  86.78678679  86.88688689  86.98698699\n",
      "  87.08708709  87.18718719  87.28728729  87.38738739  87.48748749\n",
      "  87.58758759  87.68768769  87.78778779  87.88788789  87.98798799\n",
      "  88.08808809  88.18818819  88.28828829  88.38838839  88.48848849\n",
      "  88.58858859  88.68868869  88.78878879  88.88888889  88.98898899\n",
      "  89.08908909  89.18918919  89.28928929  89.38938939  89.48948949\n",
      "  89.58958959  89.68968969  89.78978979  89.88988989  89.98998999\n",
      "  90.09009009  90.19019019  90.29029029  90.39039039  90.49049049\n",
      "  90.59059059  90.69069069  90.79079079  90.89089089  90.99099099\n",
      "  91.09109109  91.19119119  91.29129129  91.39139139  91.49149149\n",
      "  91.59159159  91.69169169  91.79179179  91.89189189  91.99199199\n",
      "  92.09209209  92.19219219  92.29229229  92.39239239  92.49249249\n",
      "  92.59259259  92.69269269  92.79279279  92.89289289  92.99299299\n",
      "  93.09309309  93.19319319  93.29329329  93.39339339  93.49349349\n",
      "  93.59359359  93.69369369  93.79379379  93.89389389  93.99399399\n",
      "  94.09409409  94.19419419  94.29429429  94.39439439  94.49449449\n",
      "  94.59459459  94.69469469  94.79479479  94.89489489  94.99499499\n",
      "  95.0950951   95.1951952   95.2952953   95.3953954   95.4954955\n",
      "  95.5955956   95.6956957   95.7957958   95.8958959   95.995996\n",
      "  96.0960961   96.1961962   96.2962963   96.3963964   96.4964965\n",
      "  96.5965966   96.6966967   96.7967968   96.8968969   96.996997\n",
      "  97.0970971   97.1971972   97.2972973   97.3973974   97.4974975\n",
      "  97.5975976   97.6976977   97.7977978   97.8978979   97.997998\n",
      "  98.0980981   98.1981982   98.2982983   98.3983984   98.4984985\n",
      "  98.5985986   98.6986987   98.7987988   98.8988989   98.998999\n",
      "  99.0990991   99.1991992   99.2992993   99.3993994   99.4994995\n",
      "  99.5995996   99.6996997   99.7997998   99.8998999  100.        ]\n"
     ]
    }
   ],
   "source": [
    "with np.printoptions(threshold=np.inf):\n",
    "    print(np.linspace(0, 100, 1000))\n"
   ]
  },
  {
   "cell_type": "markdown",
   "metadata": {},
   "source": [
    "#### 50. How to find the closest value (to a given scalar) in a vector? (★★☆)"
   ]
  },
  {
   "cell_type": "code",
   "execution_count": 59,
   "metadata": {},
   "outputs": [
    {
     "data": {
      "text/plain": [
       "7"
      ]
     },
     "execution_count": 59,
     "metadata": {},
     "output_type": "execute_result"
    }
   ],
   "source": [
    "a = np.arange(1, 10)\n",
    "b = 7.3\n",
    "a[np.argmin(np.abs(a - b))]"
   ]
  },
  {
   "cell_type": "markdown",
   "metadata": {},
   "source": [
    "#### 51. Create a structured array representing a position (x,y) and a color (r,g,b) (★★☆)"
   ]
  },
  {
   "cell_type": "code",
   "execution_count": 67,
   "metadata": {},
   "outputs": [
    {
     "data": {
      "text/plain": [
       "array([(16, 10, 23, 56, 2)],\n",
       "      dtype=[('x', '<i8'), ('y', '<i8'), ('r', 'u1'), ('g', 'u1'), ('b', 'u1')])"
      ]
     },
     "execution_count": 67,
     "metadata": {},
     "output_type": "execute_result"
    }
   ],
   "source": [
    "# Fix?\n",
    "\n",
    "mydtype = np.dtype([('x', np.int64),\n",
    "                  ('y', np.int64),\n",
    "                  ('r', np.ubyte),\n",
    "                  ('g', np.ubyte),\n",
    "                  ('b', np.ubyte)])\n",
    "a = np.array([(16, 10, 23, 56, 2)], dtype=mydtype)\n",
    "a"
   ]
  },
  {
   "cell_type": "markdown",
   "metadata": {},
   "source": [
    "#### 52. Consider a random vector with shape (100,2) representing coordinates, find point by point distances (★★☆)"
   ]
  },
  {
   "cell_type": "code",
   "execution_count": 74,
   "metadata": {},
   "outputs": [
    {
     "data": {
      "text/plain": [
       "array([[0.        , 0.26419576, 0.944941  , 0.44013203, 0.7557174 ,\n",
       "        0.83690008, 0.42471311, 0.4945533 , 0.31026136, 0.24124475],\n",
       "       [0.26419576, 0.        , 0.71391406, 0.23355667, 0.6385485 ,\n",
       "        0.78257114, 0.25611294, 0.23229511, 0.26866937, 0.39530359],\n",
       "       [0.944941  , 0.71391406, 0.        , 0.50498211, 0.46897134,\n",
       "        0.67834005, 0.81618225, 0.56997166, 0.69457881, 0.92518069],\n",
       "       [0.44013203, 0.23355667, 0.50498211, 0.        , 0.42282426,\n",
       "        0.59656288, 0.43715639, 0.25354284, 0.22624034, 0.45093954],\n",
       "       [0.7557174 , 0.6385485 , 0.46897134, 0.42282426, 0.        ,\n",
       "        0.22063508, 0.85997982, 0.65646366, 0.44550627, 0.62279966],\n",
       "       [0.83690008, 0.78257114, 0.67834005, 0.59656288, 0.22063508,\n",
       "        0.        , 1.0246171 , 0.84536199, 0.5411477 , 0.65017188],\n",
       "       [0.42471311, 0.25611294, 0.81618225, 0.43715639, 0.85997982,\n",
       "        1.0246171 , 0.        , 0.24666874, 0.52477441, 0.62417815],\n",
       "       [0.4945533 , 0.23229511, 0.56997166, 0.25354284, 0.65646366,\n",
       "        0.84536199, 0.24666874, 0.        , 0.4318982 , 0.61218389],\n",
       "       [0.31026136, 0.26866937, 0.69457881, 0.22624034, 0.44550627,\n",
       "        0.5411477 , 0.52477441, 0.4318982 , 0.        , 0.23195242],\n",
       "       [0.24124475, 0.39530359, 0.92518069, 0.45093954, 0.62279966,\n",
       "        0.65017188, 0.62417815, 0.61218389, 0.23195242, 0.        ]])"
      ]
     },
     "execution_count": 74,
     "metadata": {},
     "output_type": "execute_result"
    }
   ],
   "source": [
    "# Cool!\n",
    "\n",
    "c = np.random.random((10, 2))\n",
    "x, y = np.atleast_2d(c[:, 0], c[:, 1])\n",
    "\n",
    "dist = np.sqrt((x - x.T)**2 + (y - y.T)**2)\n",
    "dist"
   ]
  },
  {
   "cell_type": "markdown",
   "metadata": {},
   "source": [
    "#### 53. How to convert a float (32 bits) array into an integer (32 bits) in place? (★★☆)"
   ]
  },
  {
   "cell_type": "code",
   "execution_count": 81,
   "metadata": {},
   "outputs": [
    {
     "data": {
      "text/plain": [
       "array([[1, 1, 1, 1],\n",
       "       [1, 1, 1, 1],\n",
       "       [1, 1, 1, 1],\n",
       "       [1, 1, 1, 1]], dtype=int32)"
      ]
     },
     "execution_count": 81,
     "metadata": {},
     "output_type": "execute_result"
    }
   ],
   "source": [
    "# Not float32 but idc -- IDK what is in answer...\n",
    "\n",
    "a = np.random.random((4, 4)) + 1 \n",
    "a = a.astype(np.int32)\n",
    "a"
   ]
  },
  {
   "cell_type": "markdown",
   "metadata": {},
   "source": [
    "#### 54. How to read the following file? (★★☆)\n",
    "```\n",
    "1, 2, 3, 4, 5\n",
    "6,  ,  , 7, 8\n",
    " ,  , 9,10,11\n",
    "```"
   ]
  },
  {
   "cell_type": "code",
   "execution_count": null,
   "metadata": {},
   "outputs": [],
   "source": []
  },
  {
   "cell_type": "markdown",
   "metadata": {},
   "source": [
    "#### 55. What is the equivalent of enumerate for numpy arrays? (★★☆)"
   ]
  },
  {
   "cell_type": "code",
   "execution_count": null,
   "metadata": {},
   "outputs": [],
   "source": []
  },
  {
   "cell_type": "markdown",
   "metadata": {},
   "source": [
    "#### 56. Generate a generic 2D Gaussian-like array (★★☆)"
   ]
  },
  {
   "cell_type": "code",
   "execution_count": null,
   "metadata": {},
   "outputs": [],
   "source": []
  },
  {
   "cell_type": "markdown",
   "metadata": {},
   "source": [
    "#### 57. How to randomly place p elements in a 2D array? (★★☆)"
   ]
  },
  {
   "cell_type": "code",
   "execution_count": null,
   "metadata": {},
   "outputs": [],
   "source": []
  },
  {
   "cell_type": "markdown",
   "metadata": {},
   "source": [
    "#### 58. Subtract the mean of each row of a matrix (★★☆)"
   ]
  },
  {
   "cell_type": "code",
   "execution_count": null,
   "metadata": {},
   "outputs": [],
   "source": []
  },
  {
   "cell_type": "markdown",
   "metadata": {},
   "source": [
    "#### 59. How to sort an array by the nth column? (★★☆)"
   ]
  },
  {
   "cell_type": "code",
   "execution_count": null,
   "metadata": {},
   "outputs": [],
   "source": []
  },
  {
   "cell_type": "markdown",
   "metadata": {},
   "source": [
    "#### 60. How to tell if a given 2D array has null columns? (★★☆)"
   ]
  },
  {
   "cell_type": "code",
   "execution_count": null,
   "metadata": {},
   "outputs": [],
   "source": []
  },
  {
   "cell_type": "markdown",
   "metadata": {},
   "source": [
    "#### 61. Find the nearest value from a given value in an array (★★☆)"
   ]
  },
  {
   "cell_type": "code",
   "execution_count": null,
   "metadata": {},
   "outputs": [],
   "source": []
  },
  {
   "cell_type": "markdown",
   "metadata": {},
   "source": [
    "#### 62. Considering two arrays with shape (1,3) and (3,1), how to compute their sum using an iterator? (★★☆)"
   ]
  },
  {
   "cell_type": "code",
   "execution_count": null,
   "metadata": {},
   "outputs": [],
   "source": []
  },
  {
   "cell_type": "markdown",
   "metadata": {},
   "source": [
    "#### 63. Create an array class that has a name attribute (★★☆)"
   ]
  },
  {
   "cell_type": "code",
   "execution_count": null,
   "metadata": {},
   "outputs": [],
   "source": []
  },
  {
   "cell_type": "markdown",
   "metadata": {},
   "source": [
    "#### 64. Consider a given vector, how to add 1 to each element indexed by a second vector (be careful with repeated indices)? (★★★)"
   ]
  },
  {
   "cell_type": "code",
   "execution_count": null,
   "metadata": {},
   "outputs": [],
   "source": []
  },
  {
   "cell_type": "markdown",
   "metadata": {},
   "source": [
    "#### 65. How to accumulate elements of a vector (X) to an array (F) based on an index list (I)? (★★★)"
   ]
  },
  {
   "cell_type": "code",
   "execution_count": null,
   "metadata": {},
   "outputs": [],
   "source": []
  },
  {
   "cell_type": "markdown",
   "metadata": {},
   "source": [
    "#### 66. Considering a (w,h,3) image of (dtype=ubyte), compute the number of unique colors (★★☆)"
   ]
  },
  {
   "cell_type": "code",
   "execution_count": null,
   "metadata": {},
   "outputs": [],
   "source": []
  },
  {
   "cell_type": "markdown",
   "metadata": {},
   "source": [
    "#### 67. Considering a four dimensions array, how to get sum over the last two axis at once? (★★★)"
   ]
  },
  {
   "cell_type": "code",
   "execution_count": null,
   "metadata": {},
   "outputs": [],
   "source": []
  },
  {
   "cell_type": "markdown",
   "metadata": {},
   "source": [
    "#### 68. Considering a one-dimensional vector D, how to compute means of subsets of D using a vector S of same size describing subset  indices? (★★★)"
   ]
  },
  {
   "cell_type": "code",
   "execution_count": null,
   "metadata": {},
   "outputs": [],
   "source": []
  },
  {
   "cell_type": "markdown",
   "metadata": {},
   "source": [
    "#### 69. How to get the diagonal of a dot product? (★★★)"
   ]
  },
  {
   "cell_type": "code",
   "execution_count": null,
   "metadata": {},
   "outputs": [],
   "source": []
  },
  {
   "cell_type": "markdown",
   "metadata": {},
   "source": [
    "#### 70. Consider the vector [1, 2, 3, 4, 5], how to build a new vector with 3 consecutive zeros interleaved between each value? (★★★)"
   ]
  },
  {
   "cell_type": "code",
   "execution_count": null,
   "metadata": {},
   "outputs": [],
   "source": []
  },
  {
   "cell_type": "markdown",
   "metadata": {},
   "source": [
    "#### 71. Consider an array of dimension (5,5,3), how to mulitply it by an array with dimensions (5,5)? (★★★)"
   ]
  },
  {
   "cell_type": "code",
   "execution_count": null,
   "metadata": {},
   "outputs": [],
   "source": []
  },
  {
   "cell_type": "markdown",
   "metadata": {},
   "source": [
    "#### 72. How to swap two rows of an array? (★★★)"
   ]
  },
  {
   "cell_type": "code",
   "execution_count": null,
   "metadata": {},
   "outputs": [],
   "source": []
  },
  {
   "cell_type": "markdown",
   "metadata": {},
   "source": [
    "#### 73. Consider a set of 10 triplets describing 10 triangles (with shared vertices), find the set of unique line segments composing all the  triangles (★★★)"
   ]
  },
  {
   "cell_type": "code",
   "execution_count": null,
   "metadata": {},
   "outputs": [],
   "source": []
  },
  {
   "cell_type": "markdown",
   "metadata": {},
   "source": [
    "#### 74. Given a sorted array C that corresponds to a bincount, how to produce an array A such that np.bincount(A) == C? (★★★)"
   ]
  },
  {
   "cell_type": "code",
   "execution_count": null,
   "metadata": {},
   "outputs": [],
   "source": []
  },
  {
   "cell_type": "markdown",
   "metadata": {},
   "source": [
    "#### 75. How to compute averages using a sliding window over an array? (★★★)"
   ]
  },
  {
   "cell_type": "code",
   "execution_count": null,
   "metadata": {},
   "outputs": [],
   "source": []
  },
  {
   "cell_type": "markdown",
   "metadata": {},
   "source": [
    "#### 76. Consider a one-dimensional array Z, build a two-dimensional array whose first row is (Z[0],Z[1],Z[2]) and each subsequent row is  shifted by 1 (last row should be (Z[-3],Z[-2],Z[-1]) (★★★)"
   ]
  },
  {
   "cell_type": "code",
   "execution_count": null,
   "metadata": {},
   "outputs": [],
   "source": []
  },
  {
   "cell_type": "markdown",
   "metadata": {},
   "source": [
    "#### 77. How to negate a boolean, or to change the sign of a float inplace? (★★★)"
   ]
  },
  {
   "cell_type": "code",
   "execution_count": null,
   "metadata": {},
   "outputs": [],
   "source": []
  },
  {
   "cell_type": "markdown",
   "metadata": {},
   "source": [
    "#### 78. Consider 2 sets of points P0,P1 describing lines (2d) and a point p, how to compute distance from p to each line i (P0[i],P1[i])? (★★★)"
   ]
  },
  {
   "cell_type": "code",
   "execution_count": null,
   "metadata": {},
   "outputs": [],
   "source": []
  },
  {
   "cell_type": "markdown",
   "metadata": {},
   "source": [
    "#### 79. Consider 2 sets of points P0,P1 describing lines (2d) and a set of points P, how to compute distance from each point j (P[j]) to each line i (P0[i],P1[i])? (★★★)"
   ]
  },
  {
   "cell_type": "code",
   "execution_count": null,
   "metadata": {},
   "outputs": [],
   "source": []
  },
  {
   "cell_type": "markdown",
   "metadata": {},
   "source": [
    "#### 80. Consider an arbitrary array, write a function that extract a subpart with a fixed shape and centered on a given element (pad with a `fill` value when necessary) (★★★)"
   ]
  },
  {
   "cell_type": "code",
   "execution_count": null,
   "metadata": {},
   "outputs": [],
   "source": []
  },
  {
   "cell_type": "markdown",
   "metadata": {},
   "source": [
    "#### 81. Consider an array Z = [1,2,3,4,5,6,7,8,9,10,11,12,13,14], how to generate an array R = [[1,2,3,4], [2,3,4,5], [3,4,5,6], ..., [11,12,13,14]]? (★★★)"
   ]
  },
  {
   "cell_type": "code",
   "execution_count": null,
   "metadata": {},
   "outputs": [],
   "source": []
  },
  {
   "cell_type": "markdown",
   "metadata": {},
   "source": [
    "#### 82. Compute a matrix rank (★★★)"
   ]
  },
  {
   "cell_type": "code",
   "execution_count": null,
   "metadata": {},
   "outputs": [],
   "source": []
  },
  {
   "cell_type": "markdown",
   "metadata": {},
   "source": [
    "#### 83. How to find the most frequent value in an array?"
   ]
  },
  {
   "cell_type": "code",
   "execution_count": null,
   "metadata": {},
   "outputs": [],
   "source": []
  },
  {
   "cell_type": "markdown",
   "metadata": {},
   "source": [
    "#### 84. Extract all the contiguous 3x3 blocks from a random 10x10 matrix (★★★)"
   ]
  },
  {
   "cell_type": "code",
   "execution_count": null,
   "metadata": {},
   "outputs": [],
   "source": []
  },
  {
   "cell_type": "markdown",
   "metadata": {},
   "source": [
    "#### 85. Create a 2D array subclass such that Z[i,j] == Z[j,i] (★★★)"
   ]
  },
  {
   "cell_type": "code",
   "execution_count": null,
   "metadata": {},
   "outputs": [],
   "source": []
  },
  {
   "cell_type": "markdown",
   "metadata": {},
   "source": [
    "#### 86. Consider a set of p matrices wich shape (n,n) and a set of p vectors with shape (n,1). How to compute the sum of of the p matrix products at once? (result has shape (n,1)) (★★★)"
   ]
  },
  {
   "cell_type": "code",
   "execution_count": null,
   "metadata": {},
   "outputs": [],
   "source": []
  },
  {
   "cell_type": "markdown",
   "metadata": {},
   "source": [
    "#### 87. Consider a 16x16 array, how to get the block-sum (block size is 4x4)? (★★★)"
   ]
  },
  {
   "cell_type": "code",
   "execution_count": null,
   "metadata": {},
   "outputs": [],
   "source": []
  },
  {
   "cell_type": "markdown",
   "metadata": {},
   "source": [
    "#### 88. How to implement the Game of Life using numpy arrays? (★★★)"
   ]
  },
  {
   "cell_type": "code",
   "execution_count": null,
   "metadata": {},
   "outputs": [],
   "source": []
  },
  {
   "cell_type": "markdown",
   "metadata": {},
   "source": [
    "#### 89. How to get the n largest values of an array (★★★)"
   ]
  },
  {
   "cell_type": "code",
   "execution_count": null,
   "metadata": {},
   "outputs": [],
   "source": []
  },
  {
   "cell_type": "markdown",
   "metadata": {},
   "source": [
    "#### 90. Given an arbitrary number of vectors, build the cartesian product (every combinations of every item) (★★★)"
   ]
  },
  {
   "cell_type": "code",
   "execution_count": null,
   "metadata": {},
   "outputs": [],
   "source": []
  },
  {
   "cell_type": "markdown",
   "metadata": {},
   "source": [
    "#### 91. How to create a record array from a regular array? (★★★)"
   ]
  },
  {
   "cell_type": "code",
   "execution_count": null,
   "metadata": {},
   "outputs": [],
   "source": []
  },
  {
   "cell_type": "markdown",
   "metadata": {},
   "source": [
    "#### 92. Consider a large vector Z, compute Z to the power of 3 using 3 different methods (★★★)"
   ]
  },
  {
   "cell_type": "code",
   "execution_count": null,
   "metadata": {},
   "outputs": [],
   "source": []
  },
  {
   "cell_type": "markdown",
   "metadata": {},
   "source": [
    "#### 93. Consider two arrays A and B of shape (8,3) and (2,2). How to find rows of A that contain elements of each row of B regardless of the order of the elements in B? (★★★)"
   ]
  },
  {
   "cell_type": "code",
   "execution_count": null,
   "metadata": {},
   "outputs": [],
   "source": []
  },
  {
   "cell_type": "markdown",
   "metadata": {},
   "source": [
    "#### 94. Considering a 10x3 matrix, extract rows with unequal values (e.g. [2,2,3]) (★★★)"
   ]
  },
  {
   "cell_type": "code",
   "execution_count": null,
   "metadata": {},
   "outputs": [],
   "source": []
  },
  {
   "cell_type": "markdown",
   "metadata": {},
   "source": [
    "#### 95. Convert a vector of ints into a matrix binary representation (★★★)"
   ]
  },
  {
   "cell_type": "code",
   "execution_count": null,
   "metadata": {},
   "outputs": [],
   "source": []
  },
  {
   "cell_type": "markdown",
   "metadata": {},
   "source": [
    "#### 96. Given a two dimensional array, how to extract unique rows? (★★★)"
   ]
  },
  {
   "cell_type": "code",
   "execution_count": null,
   "metadata": {},
   "outputs": [],
   "source": []
  },
  {
   "cell_type": "markdown",
   "metadata": {},
   "source": [
    "#### 97. Considering 2 vectors A & B, write the einsum equivalent of inner, outer, sum, and mul function (★★★)"
   ]
  },
  {
   "cell_type": "code",
   "execution_count": null,
   "metadata": {},
   "outputs": [],
   "source": []
  },
  {
   "cell_type": "markdown",
   "metadata": {},
   "source": [
    "#### 98. Considering a path described by two vectors (X,Y), how to sample it using equidistant samples (★★★)?"
   ]
  },
  {
   "cell_type": "code",
   "execution_count": null,
   "metadata": {},
   "outputs": [],
   "source": []
  },
  {
   "cell_type": "markdown",
   "metadata": {},
   "source": [
    "#### 99. Given an integer n and a 2D array X, select from X the rows which can be interpreted as draws from a multinomial distribution with n degrees, i.e., the rows which only contain integers and which sum to n. (★★★)"
   ]
  },
  {
   "cell_type": "code",
   "execution_count": null,
   "metadata": {},
   "outputs": [],
   "source": []
  },
  {
   "cell_type": "markdown",
   "metadata": {},
   "source": [
    "#### 100. Compute bootstrapped 95% confidence intervals for the mean of a 1D array X (i.e., resample the elements of an array with replacement N times, compute the mean of each sample, and then compute percentiles over the means). (★★★)"
   ]
  },
  {
   "cell_type": "code",
   "execution_count": null,
   "metadata": {},
   "outputs": [],
   "source": []
  }
 ],
 "metadata": {
  "interpreter": {
   "hash": "11d967d62e383ecfeb25ef9d9f17c72cd5f00b2ae918c83513d0b95fd5adae7a"
  },
  "kernelspec": {
   "display_name": "Python 3.9.7 64-bit ('myenv': conda)",
   "name": "python3"
  },
  "language_info": {
   "codemirror_mode": {
    "name": "ipython",
    "version": 3
   },
   "file_extension": ".py",
   "mimetype": "text/x-python",
   "name": "python",
   "nbconvert_exporter": "python",
   "pygments_lexer": "ipython3",
   "version": "3.9.7"
  }
 },
 "nbformat": 4,
 "nbformat_minor": 5
}
